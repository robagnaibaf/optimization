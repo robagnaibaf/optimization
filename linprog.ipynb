{
 "cells": [
  {
   "cell_type": "code",
   "execution_count": 1,
   "metadata": {},
   "outputs": [],
   "source": [
    "import numpy as np\n",
    "from scipy.optimize import linprog"
   ]
  },
  {
   "attachments": {},
   "cell_type": "markdown",
   "metadata": {},
   "source": [
    "## Max: z = 8x1 + 10x2 + 7x3\n",
    "### Kényszerkikötések:\n",
    "- x1 + 3x2 + 2x3 <= 10\n",
    "- x1 + 5x2 + x3 <= 8\n",
    "- x1, x2, x3 >= 0\n",
    "\n",
    "### Eredmény:\n",
    "- x1 = 8\n",
    "- x2 = 0\n",
    "- x3 = 0\n",
    "- s1 = 2\n",
    "- s2 = 0\n",
    "- z = 64"
   ]
  },
  {
   "cell_type": "code",
   "execution_count": 8,
   "metadata": {},
   "outputs": [],
   "source": [
    "matrix = np.array([[1,3,2],[1,5,1],[-1,0,0],[0,-1,0],[0,0,-1]])\n",
    "constants = np.array([10,8,0,0,0])\n",
    "z = np.array([-8,-10,-7])\n"
   ]
  },
  {
   "cell_type": "code",
   "execution_count": 11,
   "metadata": {},
   "outputs": [],
   "source": [
    "result = linprog(z,A_ub=matrix,b_ub=constants)"
   ]
  }
 ],
 "metadata": {
  "kernelspec": {
   "display_name": "Python 3",
   "language": "python",
   "name": "python3"
  },
  "language_info": {
   "codemirror_mode": {
    "name": "ipython",
    "version": 3
   },
   "file_extension": ".py",
   "mimetype": "text/x-python",
   "name": "python",
   "nbconvert_exporter": "python",
   "pygments_lexer": "ipython3",
   "version": "3.11.2"
  },
  "orig_nbformat": 4
 },
 "nbformat": 4,
 "nbformat_minor": 2
}
