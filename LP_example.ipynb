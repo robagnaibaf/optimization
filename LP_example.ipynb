{
 "cells": [
  {
   "cell_type": "markdown",
   "id": "4404f2e6-9586-4a19-949e-c8282d244ebc",
   "metadata": {},
   "source": [
    "## Hello LP optimalizáció!\n",
    "\n",
    "Ez a notebook a scipy.optimize package LP példáját futtatja le.\n",
    "\n",
    "Beszúrok ide egy képletet is.\n",
    "$$\n",
    "    A=\\begin{bmatrix} 1 & -1  & -3 & 0 \\\\ -2 & 3 & 7 & -3 \\end{bmatrix}\n",
    "$$"
   ]
  },
  {
   "cell_type": "code",
   "execution_count": 1,
   "id": "6239572e-c5cf-4d5d-84b7-3c1baeae9f1b",
   "metadata": {},
   "outputs": [
    {
     "name": "stdout",
     "output_type": "stream",
     "text": [
      "The algorithm terminated successfully and determined that the problem is infeasible.\n"
     ]
    }
   ],
   "source": [
    "import numpy as np\n",
    "from scipy.optimize import linprog\n",
    "c = np.array([-29.0, -45.0, 0.0, 0.0])\n",
    "A_ub = np.array([[1.0, -1.0, -3.0, 0.0],\n",
    "                [-2.0, 3.0, 7.0, -3.0]])\n",
    "b_ub = np.array([5.0, -10.0])\n",
    "A_eq = np.array([[2.0, 8.0, 1.0, 0.0],\n",
    "                [4.0, 4.0, 0.0, 1.0]])\n",
    "b_eq = np.array([60.0, 60.0])\n",
    "x0_bounds = (0, None)\n",
    "x1_bounds = (0, 5.0)\n",
    "x2_bounds = (-np.inf, 0.5)  # +/- np.inf can be used instead of None\n",
    "x3_bounds = (-3.0, None)\n",
    "bounds = [x0_bounds, x1_bounds, x2_bounds, x3_bounds]\n",
    "result = linprog(c, A_ub=A_ub, b_ub=b_ub, A_eq=A_eq, b_eq=b_eq, bounds=bounds)\n",
    "print(result.message)"
   ]
  }
 ],
 "metadata": {
  "kernelspec": {
   "display_name": "anaconda-2022.05-py39",
   "language": "python",
   "name": "conda-env-anaconda-2022.05-py39-py"
  },
  "language_info": {
   "codemirror_mode": {
    "name": "ipython",
    "version": 3
   },
   "file_extension": ".py",
   "mimetype": "text/x-python",
   "name": "python",
   "nbconvert_exporter": "python",
   "pygments_lexer": "ipython3",
   "version": "3.9.12"
  }
 },
 "nbformat": 4,
 "nbformat_minor": 5
}
